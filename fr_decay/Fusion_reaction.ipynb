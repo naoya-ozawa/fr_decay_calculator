{
 "cells": [
  {
   "cell_type": "code",
   "execution_count": null,
   "metadata": {},
   "outputs": [],
   "source": [
    "# Code to calculate the production ratio of ions/isotopes\n",
    "# Step 1: stopping energy data for 18-O @100MeV/n inside the Au target\n",
    "# Step 2: cross-section data for 18~O + 197-Au --> X with LISE++\n",
    "# Step 3: calculate the integral \n",
    "#          P/j = int_0^100MeV dE (cross-section(E))/<dE/dX(E)> * (N_A/M)\n",
    "#         where M is the molar mass of Au = 196.96655 g/mol, for each created nucleus\n",
    "# Step 4: calculate the ratio of surface ionization by Langmuir-Saha for different elements based on IP\n"
   ]
  },
  {
   "cell_type": "code",
   "execution_count": null,
   "metadata": {},
   "outputs": [],
   "source": [
    "# Fundamental Constants\n",
    "k_B"
   ]
  },
  {
   "cell_type": "code",
   "execution_count": null,
   "metadata": {},
   "outputs": [],
   "source": []
  },
  {
   "cell_type": "code",
   "execution_count": null,
   "metadata": {},
   "outputs": [],
   "source": []
  },
  {
   "cell_type": "code",
   "execution_count": null,
   "metadata": {},
   "outputs": [],
   "source": []
  },
  {
   "cell_type": "code",
   "execution_count": null,
   "metadata": {},
   "outputs": [],
   "source": [
    "# Step 4-1 : calculate the ionization factor (1 --> completely ionized)\n",
    "Fr_1IP = 4.07 # eV\n",
    "Au_WF = 5.1 # eV\n",
    "\n",
    "Au_temp = 1000 # K\n",
    "\n",
    "i0_ratio = (1.0/2.0)*exp((Au_WF-Fr_1IP)/(k_B*Au_temp))\n",
    "\n",
    "ionization_factor = i0_ratio/(1.0 + i0_ratio)"
   ]
  },
  {
   "cell_type": "code",
   "execution_count": null,
   "metadata": {},
   "outputs": [],
   "source": [
    "# Step 4-2 : "
   ]
  },
  {
   "cell_type": "code",
   "execution_count": null,
   "metadata": {},
   "outputs": [],
   "source": [
    "# Step 4-3 : The ions after extraction\n",
    "E_Frion = (1.0/2.0)*k_B * Au_temp\n",
    "MB_distribution = 2.0* sqrt(E/pi)*(1.0/(2.0*E_Frion))**(3/2) * exp(-E/(2.0*E_Frion))"
   ]
  }
 ],
 "metadata": {
  "kernelspec": {
   "display_name": "Python 3",
   "language": "python",
   "name": "python3"
  },
  "language_info": {
   "codemirror_mode": {
    "name": "ipython",
    "version": 3
   },
   "file_extension": ".py",
   "mimetype": "text/x-python",
   "name": "python",
   "nbconvert_exporter": "python",
   "pygments_lexer": "ipython3",
   "version": "3.6.4"
  }
 },
 "nbformat": 4,
 "nbformat_minor": 2
}
